{
 "cells": [
  {
   "cell_type": "markdown",
   "id": "b24d4bec",
   "metadata": {},
   "source": [
    "# **DA5401 A6 (Imputation via Regression for Missing Data)**"
   ]
  },
  {
   "cell_type": "markdown",
   "id": "dd520144",
   "metadata": {},
   "source": [
    "### **Dependencies**"
   ]
  },
  {
   "cell_type": "code",
   "execution_count": 1,
   "id": "62c8b839",
   "metadata": {},
   "outputs": [],
   "source": [
    "import numpy as np\n",
    "import pandas as pd\n",
    "import seaborn as sns\n",
    "import matplotlib.pyplot as plt\n",
    "from sklearn.pipeline import Pipeline\n",
    "from sklearn.preprocessing import StandardScaler\n",
    "from sklearn.model_selection import train_test_split\n",
    "from sklearn.experimental import enable_iterative_imputer\n",
    "from sklearn.linear_model import LinearRegression, LogisticRegression\n",
    "from sklearn.impute import SimpleImputer, IterativeImputer, KNNImputer\n",
    "from sklearn.metrics import classification_report, confusion_matrix, ConfusionMatrixDisplay"
   ]
  },
  {
   "cell_type": "markdown",
   "id": "a8f5d4e0",
   "metadata": {},
   "source": [
    "## **Part A: Data Preprocessing and Imputation**"
   ]
  },
  {
   "cell_type": "markdown",
   "id": "a1d6115f",
   "metadata": {},
   "source": [
    "### **Load and Prepare Data**\n",
    "\n",
    "Dataset: [Default of Credit Card Clients Dataset](https://www.kaggle.com/datasets/uciml/default-of-credit-card-clients-dataset)  \n",
    "- **Target:** `default.payment.next.month` (1 →  Yes, 0 → No)\n",
    "\n",
    "**Steps:**\n",
    "- The dataset was downloaded using the Kaggle CLI and loaded as a pandas dataframe\n",
    "- Introduced **artificially introduced Missing At Random (MAR) values** by replacing 5% of the values in three numerical columns (`AGE`, `BILL_AMT1`, `BILL_AMT2`) with `NaN`."
   ]
  },
  {
   "cell_type": "code",
   "execution_count": 2,
   "id": "e3846274",
   "metadata": {},
   "outputs": [],
   "source": [
    "# Downloading dataset using kaggle cli\n",
    "# kaggle datasets download -d uciml/default-of-credit-card-clients-dataset -p ./datasets --unzip"
   ]
  },
  {
   "cell_type": "code",
   "execution_count": 3,
   "id": "c3686774",
   "metadata": {},
   "outputs": [],
   "source": [
    "ucc_df = pd.read_csv('datasets/UCI_Credit_Card.csv')"
   ]
  },
  {
   "cell_type": "code",
   "execution_count": 4,
   "id": "c9aa4dbe",
   "metadata": {},
   "outputs": [
    {
     "data": {
      "text/plain": [
       "(30000, 25)"
      ]
     },
     "execution_count": 4,
     "metadata": {},
     "output_type": "execute_result"
    }
   ],
   "source": [
    "ucc_df.shape"
   ]
  },
  {
   "cell_type": "code",
   "execution_count": 5,
   "id": "bc40d047",
   "metadata": {},
   "outputs": [
    {
     "name": "stdout",
     "output_type": "stream",
     "text": [
      "<class 'pandas.core.frame.DataFrame'>\n",
      "RangeIndex: 30000 entries, 0 to 29999\n",
      "Data columns (total 25 columns):\n",
      " #   Column                      Non-Null Count  Dtype  \n",
      "---  ------                      --------------  -----  \n",
      " 0   ID                          30000 non-null  int64  \n",
      " 1   LIMIT_BAL                   30000 non-null  float64\n",
      " 2   SEX                         30000 non-null  int64  \n",
      " 3   EDUCATION                   30000 non-null  int64  \n",
      " 4   MARRIAGE                    30000 non-null  int64  \n",
      " 5   AGE                         30000 non-null  int64  \n",
      " 6   PAY_0                       30000 non-null  int64  \n",
      " 7   PAY_2                       30000 non-null  int64  \n",
      " 8   PAY_3                       30000 non-null  int64  \n",
      " 9   PAY_4                       30000 non-null  int64  \n",
      " 10  PAY_5                       30000 non-null  int64  \n",
      " 11  PAY_6                       30000 non-null  int64  \n",
      " 12  BILL_AMT1                   30000 non-null  float64\n",
      " 13  BILL_AMT2                   30000 non-null  float64\n",
      " 14  BILL_AMT3                   30000 non-null  float64\n",
      " 15  BILL_AMT4                   30000 non-null  float64\n",
      " 16  BILL_AMT5                   30000 non-null  float64\n",
      " 17  BILL_AMT6                   30000 non-null  float64\n",
      " 18  PAY_AMT1                    30000 non-null  float64\n",
      " 19  PAY_AMT2                    30000 non-null  float64\n",
      " 20  PAY_AMT3                    30000 non-null  float64\n",
      " 21  PAY_AMT4                    30000 non-null  float64\n",
      " 22  PAY_AMT5                    30000 non-null  float64\n",
      " 23  PAY_AMT6                    30000 non-null  float64\n",
      " 24  default.payment.next.month  30000 non-null  int64  \n",
      "dtypes: float64(13), int64(12)\n",
      "memory usage: 5.7 MB\n"
     ]
    }
   ],
   "source": [
    "ucc_df.info()"
   ]
  },
  {
   "cell_type": "code",
   "execution_count": 6,
   "id": "98848183",
   "metadata": {},
   "outputs": [
    {
     "data": {
      "text/html": [
       "<div>\n",
       "<style scoped>\n",
       "    .dataframe tbody tr th:only-of-type {\n",
       "        vertical-align: middle;\n",
       "    }\n",
       "\n",
       "    .dataframe tbody tr th {\n",
       "        vertical-align: top;\n",
       "    }\n",
       "\n",
       "    .dataframe thead th {\n",
       "        text-align: right;\n",
       "    }\n",
       "</style>\n",
       "<table border=\"1\" class=\"dataframe\">\n",
       "  <thead>\n",
       "    <tr style=\"text-align: right;\">\n",
       "      <th></th>\n",
       "      <th>ID</th>\n",
       "      <th>LIMIT_BAL</th>\n",
       "      <th>SEX</th>\n",
       "      <th>EDUCATION</th>\n",
       "      <th>MARRIAGE</th>\n",
       "      <th>AGE</th>\n",
       "      <th>PAY_0</th>\n",
       "      <th>PAY_2</th>\n",
       "      <th>PAY_3</th>\n",
       "      <th>PAY_4</th>\n",
       "      <th>...</th>\n",
       "      <th>BILL_AMT4</th>\n",
       "      <th>BILL_AMT5</th>\n",
       "      <th>BILL_AMT6</th>\n",
       "      <th>PAY_AMT1</th>\n",
       "      <th>PAY_AMT2</th>\n",
       "      <th>PAY_AMT3</th>\n",
       "      <th>PAY_AMT4</th>\n",
       "      <th>PAY_AMT5</th>\n",
       "      <th>PAY_AMT6</th>\n",
       "      <th>default.payment.next.month</th>\n",
       "    </tr>\n",
       "  </thead>\n",
       "  <tbody>\n",
       "    <tr>\n",
       "      <th>count</th>\n",
       "      <td>30000.000000</td>\n",
       "      <td>30000.000000</td>\n",
       "      <td>30000.000000</td>\n",
       "      <td>30000.000000</td>\n",
       "      <td>30000.000000</td>\n",
       "      <td>30000.000000</td>\n",
       "      <td>30000.000000</td>\n",
       "      <td>30000.000000</td>\n",
       "      <td>30000.000000</td>\n",
       "      <td>30000.000000</td>\n",
       "      <td>...</td>\n",
       "      <td>30000.000000</td>\n",
       "      <td>30000.000000</td>\n",
       "      <td>30000.000000</td>\n",
       "      <td>30000.000000</td>\n",
       "      <td>3.000000e+04</td>\n",
       "      <td>30000.00000</td>\n",
       "      <td>30000.000000</td>\n",
       "      <td>30000.000000</td>\n",
       "      <td>30000.000000</td>\n",
       "      <td>30000.000000</td>\n",
       "    </tr>\n",
       "    <tr>\n",
       "      <th>mean</th>\n",
       "      <td>15000.500000</td>\n",
       "      <td>167484.322667</td>\n",
       "      <td>1.603733</td>\n",
       "      <td>1.853133</td>\n",
       "      <td>1.551867</td>\n",
       "      <td>35.485500</td>\n",
       "      <td>-0.016700</td>\n",
       "      <td>-0.133767</td>\n",
       "      <td>-0.166200</td>\n",
       "      <td>-0.220667</td>\n",
       "      <td>...</td>\n",
       "      <td>43262.948967</td>\n",
       "      <td>40311.400967</td>\n",
       "      <td>38871.760400</td>\n",
       "      <td>5663.580500</td>\n",
       "      <td>5.921163e+03</td>\n",
       "      <td>5225.68150</td>\n",
       "      <td>4826.076867</td>\n",
       "      <td>4799.387633</td>\n",
       "      <td>5215.502567</td>\n",
       "      <td>0.221200</td>\n",
       "    </tr>\n",
       "    <tr>\n",
       "      <th>std</th>\n",
       "      <td>8660.398374</td>\n",
       "      <td>129747.661567</td>\n",
       "      <td>0.489129</td>\n",
       "      <td>0.790349</td>\n",
       "      <td>0.521970</td>\n",
       "      <td>9.217904</td>\n",
       "      <td>1.123802</td>\n",
       "      <td>1.197186</td>\n",
       "      <td>1.196868</td>\n",
       "      <td>1.169139</td>\n",
       "      <td>...</td>\n",
       "      <td>64332.856134</td>\n",
       "      <td>60797.155770</td>\n",
       "      <td>59554.107537</td>\n",
       "      <td>16563.280354</td>\n",
       "      <td>2.304087e+04</td>\n",
       "      <td>17606.96147</td>\n",
       "      <td>15666.159744</td>\n",
       "      <td>15278.305679</td>\n",
       "      <td>17777.465775</td>\n",
       "      <td>0.415062</td>\n",
       "    </tr>\n",
       "    <tr>\n",
       "      <th>min</th>\n",
       "      <td>1.000000</td>\n",
       "      <td>10000.000000</td>\n",
       "      <td>1.000000</td>\n",
       "      <td>0.000000</td>\n",
       "      <td>0.000000</td>\n",
       "      <td>21.000000</td>\n",
       "      <td>-2.000000</td>\n",
       "      <td>-2.000000</td>\n",
       "      <td>-2.000000</td>\n",
       "      <td>-2.000000</td>\n",
       "      <td>...</td>\n",
       "      <td>-170000.000000</td>\n",
       "      <td>-81334.000000</td>\n",
       "      <td>-339603.000000</td>\n",
       "      <td>0.000000</td>\n",
       "      <td>0.000000e+00</td>\n",
       "      <td>0.00000</td>\n",
       "      <td>0.000000</td>\n",
       "      <td>0.000000</td>\n",
       "      <td>0.000000</td>\n",
       "      <td>0.000000</td>\n",
       "    </tr>\n",
       "    <tr>\n",
       "      <th>25%</th>\n",
       "      <td>7500.750000</td>\n",
       "      <td>50000.000000</td>\n",
       "      <td>1.000000</td>\n",
       "      <td>1.000000</td>\n",
       "      <td>1.000000</td>\n",
       "      <td>28.000000</td>\n",
       "      <td>-1.000000</td>\n",
       "      <td>-1.000000</td>\n",
       "      <td>-1.000000</td>\n",
       "      <td>-1.000000</td>\n",
       "      <td>...</td>\n",
       "      <td>2326.750000</td>\n",
       "      <td>1763.000000</td>\n",
       "      <td>1256.000000</td>\n",
       "      <td>1000.000000</td>\n",
       "      <td>8.330000e+02</td>\n",
       "      <td>390.00000</td>\n",
       "      <td>296.000000</td>\n",
       "      <td>252.500000</td>\n",
       "      <td>117.750000</td>\n",
       "      <td>0.000000</td>\n",
       "    </tr>\n",
       "    <tr>\n",
       "      <th>50%</th>\n",
       "      <td>15000.500000</td>\n",
       "      <td>140000.000000</td>\n",
       "      <td>2.000000</td>\n",
       "      <td>2.000000</td>\n",
       "      <td>2.000000</td>\n",
       "      <td>34.000000</td>\n",
       "      <td>0.000000</td>\n",
       "      <td>0.000000</td>\n",
       "      <td>0.000000</td>\n",
       "      <td>0.000000</td>\n",
       "      <td>...</td>\n",
       "      <td>19052.000000</td>\n",
       "      <td>18104.500000</td>\n",
       "      <td>17071.000000</td>\n",
       "      <td>2100.000000</td>\n",
       "      <td>2.009000e+03</td>\n",
       "      <td>1800.00000</td>\n",
       "      <td>1500.000000</td>\n",
       "      <td>1500.000000</td>\n",
       "      <td>1500.000000</td>\n",
       "      <td>0.000000</td>\n",
       "    </tr>\n",
       "    <tr>\n",
       "      <th>75%</th>\n",
       "      <td>22500.250000</td>\n",
       "      <td>240000.000000</td>\n",
       "      <td>2.000000</td>\n",
       "      <td>2.000000</td>\n",
       "      <td>2.000000</td>\n",
       "      <td>41.000000</td>\n",
       "      <td>0.000000</td>\n",
       "      <td>0.000000</td>\n",
       "      <td>0.000000</td>\n",
       "      <td>0.000000</td>\n",
       "      <td>...</td>\n",
       "      <td>54506.000000</td>\n",
       "      <td>50190.500000</td>\n",
       "      <td>49198.250000</td>\n",
       "      <td>5006.000000</td>\n",
       "      <td>5.000000e+03</td>\n",
       "      <td>4505.00000</td>\n",
       "      <td>4013.250000</td>\n",
       "      <td>4031.500000</td>\n",
       "      <td>4000.000000</td>\n",
       "      <td>0.000000</td>\n",
       "    </tr>\n",
       "    <tr>\n",
       "      <th>max</th>\n",
       "      <td>30000.000000</td>\n",
       "      <td>1000000.000000</td>\n",
       "      <td>2.000000</td>\n",
       "      <td>6.000000</td>\n",
       "      <td>3.000000</td>\n",
       "      <td>79.000000</td>\n",
       "      <td>8.000000</td>\n",
       "      <td>8.000000</td>\n",
       "      <td>8.000000</td>\n",
       "      <td>8.000000</td>\n",
       "      <td>...</td>\n",
       "      <td>891586.000000</td>\n",
       "      <td>927171.000000</td>\n",
       "      <td>961664.000000</td>\n",
       "      <td>873552.000000</td>\n",
       "      <td>1.684259e+06</td>\n",
       "      <td>896040.00000</td>\n",
       "      <td>621000.000000</td>\n",
       "      <td>426529.000000</td>\n",
       "      <td>528666.000000</td>\n",
       "      <td>1.000000</td>\n",
       "    </tr>\n",
       "  </tbody>\n",
       "</table>\n",
       "<p>8 rows × 25 columns</p>\n",
       "</div>"
      ],
      "text/plain": [
       "                 ID       LIMIT_BAL           SEX     EDUCATION      MARRIAGE  \\\n",
       "count  30000.000000    30000.000000  30000.000000  30000.000000  30000.000000   \n",
       "mean   15000.500000   167484.322667      1.603733      1.853133      1.551867   \n",
       "std     8660.398374   129747.661567      0.489129      0.790349      0.521970   \n",
       "min        1.000000    10000.000000      1.000000      0.000000      0.000000   \n",
       "25%     7500.750000    50000.000000      1.000000      1.000000      1.000000   \n",
       "50%    15000.500000   140000.000000      2.000000      2.000000      2.000000   \n",
       "75%    22500.250000   240000.000000      2.000000      2.000000      2.000000   \n",
       "max    30000.000000  1000000.000000      2.000000      6.000000      3.000000   \n",
       "\n",
       "                AGE         PAY_0         PAY_2         PAY_3         PAY_4  \\\n",
       "count  30000.000000  30000.000000  30000.000000  30000.000000  30000.000000   \n",
       "mean      35.485500     -0.016700     -0.133767     -0.166200     -0.220667   \n",
       "std        9.217904      1.123802      1.197186      1.196868      1.169139   \n",
       "min       21.000000     -2.000000     -2.000000     -2.000000     -2.000000   \n",
       "25%       28.000000     -1.000000     -1.000000     -1.000000     -1.000000   \n",
       "50%       34.000000      0.000000      0.000000      0.000000      0.000000   \n",
       "75%       41.000000      0.000000      0.000000      0.000000      0.000000   \n",
       "max       79.000000      8.000000      8.000000      8.000000      8.000000   \n",
       "\n",
       "       ...      BILL_AMT4      BILL_AMT5      BILL_AMT6       PAY_AMT1  \\\n",
       "count  ...   30000.000000   30000.000000   30000.000000   30000.000000   \n",
       "mean   ...   43262.948967   40311.400967   38871.760400    5663.580500   \n",
       "std    ...   64332.856134   60797.155770   59554.107537   16563.280354   \n",
       "min    ... -170000.000000  -81334.000000 -339603.000000       0.000000   \n",
       "25%    ...    2326.750000    1763.000000    1256.000000    1000.000000   \n",
       "50%    ...   19052.000000   18104.500000   17071.000000    2100.000000   \n",
       "75%    ...   54506.000000   50190.500000   49198.250000    5006.000000   \n",
       "max    ...  891586.000000  927171.000000  961664.000000  873552.000000   \n",
       "\n",
       "           PAY_AMT2      PAY_AMT3       PAY_AMT4       PAY_AMT5  \\\n",
       "count  3.000000e+04   30000.00000   30000.000000   30000.000000   \n",
       "mean   5.921163e+03    5225.68150    4826.076867    4799.387633   \n",
       "std    2.304087e+04   17606.96147   15666.159744   15278.305679   \n",
       "min    0.000000e+00       0.00000       0.000000       0.000000   \n",
       "25%    8.330000e+02     390.00000     296.000000     252.500000   \n",
       "50%    2.009000e+03    1800.00000    1500.000000    1500.000000   \n",
       "75%    5.000000e+03    4505.00000    4013.250000    4031.500000   \n",
       "max    1.684259e+06  896040.00000  621000.000000  426529.000000   \n",
       "\n",
       "            PAY_AMT6  default.payment.next.month  \n",
       "count   30000.000000                30000.000000  \n",
       "mean     5215.502567                    0.221200  \n",
       "std     17777.465775                    0.415062  \n",
       "min         0.000000                    0.000000  \n",
       "25%       117.750000                    0.000000  \n",
       "50%      1500.000000                    0.000000  \n",
       "75%      4000.000000                    0.000000  \n",
       "max    528666.000000                    1.000000  \n",
       "\n",
       "[8 rows x 25 columns]"
      ]
     },
     "execution_count": 6,
     "metadata": {},
     "output_type": "execute_result"
    }
   ],
   "source": [
    "ucc_df.describe()"
   ]
  },
  {
   "cell_type": "code",
   "execution_count": 7,
   "id": "555655d2",
   "metadata": {},
   "outputs": [
    {
     "data": {
      "text/html": [
       "<div>\n",
       "<style scoped>\n",
       "    .dataframe tbody tr th:only-of-type {\n",
       "        vertical-align: middle;\n",
       "    }\n",
       "\n",
       "    .dataframe tbody tr th {\n",
       "        vertical-align: top;\n",
       "    }\n",
       "\n",
       "    .dataframe thead th {\n",
       "        text-align: right;\n",
       "    }\n",
       "</style>\n",
       "<table border=\"1\" class=\"dataframe\">\n",
       "  <thead>\n",
       "    <tr style=\"text-align: right;\">\n",
       "      <th></th>\n",
       "      <th>ID</th>\n",
       "      <th>LIMIT_BAL</th>\n",
       "      <th>SEX</th>\n",
       "      <th>EDUCATION</th>\n",
       "      <th>MARRIAGE</th>\n",
       "      <th>AGE</th>\n",
       "      <th>PAY_0</th>\n",
       "      <th>PAY_2</th>\n",
       "      <th>PAY_3</th>\n",
       "      <th>PAY_4</th>\n",
       "      <th>...</th>\n",
       "      <th>BILL_AMT4</th>\n",
       "      <th>BILL_AMT5</th>\n",
       "      <th>BILL_AMT6</th>\n",
       "      <th>PAY_AMT1</th>\n",
       "      <th>PAY_AMT2</th>\n",
       "      <th>PAY_AMT3</th>\n",
       "      <th>PAY_AMT4</th>\n",
       "      <th>PAY_AMT5</th>\n",
       "      <th>PAY_AMT6</th>\n",
       "      <th>default.payment.next.month</th>\n",
       "    </tr>\n",
       "  </thead>\n",
       "  <tbody>\n",
       "    <tr>\n",
       "      <th>0</th>\n",
       "      <td>1</td>\n",
       "      <td>20000.0</td>\n",
       "      <td>2</td>\n",
       "      <td>2</td>\n",
       "      <td>1</td>\n",
       "      <td>24</td>\n",
       "      <td>2</td>\n",
       "      <td>2</td>\n",
       "      <td>-1</td>\n",
       "      <td>-1</td>\n",
       "      <td>...</td>\n",
       "      <td>0.0</td>\n",
       "      <td>0.0</td>\n",
       "      <td>0.0</td>\n",
       "      <td>0.0</td>\n",
       "      <td>689.0</td>\n",
       "      <td>0.0</td>\n",
       "      <td>0.0</td>\n",
       "      <td>0.0</td>\n",
       "      <td>0.0</td>\n",
       "      <td>1</td>\n",
       "    </tr>\n",
       "    <tr>\n",
       "      <th>1</th>\n",
       "      <td>2</td>\n",
       "      <td>120000.0</td>\n",
       "      <td>2</td>\n",
       "      <td>2</td>\n",
       "      <td>2</td>\n",
       "      <td>26</td>\n",
       "      <td>-1</td>\n",
       "      <td>2</td>\n",
       "      <td>0</td>\n",
       "      <td>0</td>\n",
       "      <td>...</td>\n",
       "      <td>3272.0</td>\n",
       "      <td>3455.0</td>\n",
       "      <td>3261.0</td>\n",
       "      <td>0.0</td>\n",
       "      <td>1000.0</td>\n",
       "      <td>1000.0</td>\n",
       "      <td>1000.0</td>\n",
       "      <td>0.0</td>\n",
       "      <td>2000.0</td>\n",
       "      <td>1</td>\n",
       "    </tr>\n",
       "    <tr>\n",
       "      <th>2</th>\n",
       "      <td>3</td>\n",
       "      <td>90000.0</td>\n",
       "      <td>2</td>\n",
       "      <td>2</td>\n",
       "      <td>2</td>\n",
       "      <td>34</td>\n",
       "      <td>0</td>\n",
       "      <td>0</td>\n",
       "      <td>0</td>\n",
       "      <td>0</td>\n",
       "      <td>...</td>\n",
       "      <td>14331.0</td>\n",
       "      <td>14948.0</td>\n",
       "      <td>15549.0</td>\n",
       "      <td>1518.0</td>\n",
       "      <td>1500.0</td>\n",
       "      <td>1000.0</td>\n",
       "      <td>1000.0</td>\n",
       "      <td>1000.0</td>\n",
       "      <td>5000.0</td>\n",
       "      <td>0</td>\n",
       "    </tr>\n",
       "    <tr>\n",
       "      <th>3</th>\n",
       "      <td>4</td>\n",
       "      <td>50000.0</td>\n",
       "      <td>2</td>\n",
       "      <td>2</td>\n",
       "      <td>1</td>\n",
       "      <td>37</td>\n",
       "      <td>0</td>\n",
       "      <td>0</td>\n",
       "      <td>0</td>\n",
       "      <td>0</td>\n",
       "      <td>...</td>\n",
       "      <td>28314.0</td>\n",
       "      <td>28959.0</td>\n",
       "      <td>29547.0</td>\n",
       "      <td>2000.0</td>\n",
       "      <td>2019.0</td>\n",
       "      <td>1200.0</td>\n",
       "      <td>1100.0</td>\n",
       "      <td>1069.0</td>\n",
       "      <td>1000.0</td>\n",
       "      <td>0</td>\n",
       "    </tr>\n",
       "    <tr>\n",
       "      <th>4</th>\n",
       "      <td>5</td>\n",
       "      <td>50000.0</td>\n",
       "      <td>1</td>\n",
       "      <td>2</td>\n",
       "      <td>1</td>\n",
       "      <td>57</td>\n",
       "      <td>-1</td>\n",
       "      <td>0</td>\n",
       "      <td>-1</td>\n",
       "      <td>0</td>\n",
       "      <td>...</td>\n",
       "      <td>20940.0</td>\n",
       "      <td>19146.0</td>\n",
       "      <td>19131.0</td>\n",
       "      <td>2000.0</td>\n",
       "      <td>36681.0</td>\n",
       "      <td>10000.0</td>\n",
       "      <td>9000.0</td>\n",
       "      <td>689.0</td>\n",
       "      <td>679.0</td>\n",
       "      <td>0</td>\n",
       "    </tr>\n",
       "  </tbody>\n",
       "</table>\n",
       "<p>5 rows × 25 columns</p>\n",
       "</div>"
      ],
      "text/plain": [
       "   ID  LIMIT_BAL  SEX  EDUCATION  MARRIAGE  AGE  PAY_0  PAY_2  PAY_3  PAY_4  \\\n",
       "0   1    20000.0    2          2         1   24      2      2     -1     -1   \n",
       "1   2   120000.0    2          2         2   26     -1      2      0      0   \n",
       "2   3    90000.0    2          2         2   34      0      0      0      0   \n",
       "3   4    50000.0    2          2         1   37      0      0      0      0   \n",
       "4   5    50000.0    1          2         1   57     -1      0     -1      0   \n",
       "\n",
       "   ...  BILL_AMT4  BILL_AMT5  BILL_AMT6  PAY_AMT1  PAY_AMT2  PAY_AMT3  \\\n",
       "0  ...        0.0        0.0        0.0       0.0     689.0       0.0   \n",
       "1  ...     3272.0     3455.0     3261.0       0.0    1000.0    1000.0   \n",
       "2  ...    14331.0    14948.0    15549.0    1518.0    1500.0    1000.0   \n",
       "3  ...    28314.0    28959.0    29547.0    2000.0    2019.0    1200.0   \n",
       "4  ...    20940.0    19146.0    19131.0    2000.0   36681.0   10000.0   \n",
       "\n",
       "   PAY_AMT4  PAY_AMT5  PAY_AMT6  default.payment.next.month  \n",
       "0       0.0       0.0       0.0                           1  \n",
       "1    1000.0       0.0    2000.0                           1  \n",
       "2    1000.0    1000.0    5000.0                           0  \n",
       "3    1100.0    1069.0    1000.0                           0  \n",
       "4    9000.0     689.0     679.0                           0  \n",
       "\n",
       "[5 rows x 25 columns]"
      ]
     },
     "execution_count": 7,
     "metadata": {},
     "output_type": "execute_result"
    }
   ],
   "source": [
    "ucc_df.head()"
   ]
  },
  {
   "cell_type": "code",
   "execution_count": 8,
   "id": "d2bc6d6d",
   "metadata": {},
   "outputs": [
    {
     "data": {
      "text/plain": [
       "ID                            0\n",
       "LIMIT_BAL                     0\n",
       "SEX                           0\n",
       "EDUCATION                     0\n",
       "MARRIAGE                      0\n",
       "AGE                           0\n",
       "PAY_0                         0\n",
       "PAY_2                         0\n",
       "PAY_3                         0\n",
       "PAY_4                         0\n",
       "PAY_5                         0\n",
       "PAY_6                         0\n",
       "BILL_AMT1                     0\n",
       "BILL_AMT2                     0\n",
       "BILL_AMT3                     0\n",
       "BILL_AMT4                     0\n",
       "BILL_AMT5                     0\n",
       "BILL_AMT6                     0\n",
       "PAY_AMT1                      0\n",
       "PAY_AMT2                      0\n",
       "PAY_AMT3                      0\n",
       "PAY_AMT4                      0\n",
       "PAY_AMT5                      0\n",
       "PAY_AMT6                      0\n",
       "default.payment.next.month    0\n",
       "dtype: int64"
      ]
     },
     "execution_count": 8,
     "metadata": {},
     "output_type": "execute_result"
    }
   ],
   "source": [
    "ucc_df.isnull().sum()"
   ]
  },
  {
   "cell_type": "code",
   "execution_count": 9,
   "id": "3f98ae70",
   "metadata": {},
   "outputs": [
    {
     "data": {
      "text/plain": [
       "default.payment.next.month\n",
       "0    0.7788\n",
       "1    0.2212\n",
       "Name: proportion, dtype: float64"
      ]
     },
     "execution_count": 9,
     "metadata": {},
     "output_type": "execute_result"
    }
   ],
   "source": [
    "# We can see some class imbalance in the data\n",
    "ucc_df['default.payment.next.month'].value_counts(normalize=True)"
   ]
  },
  {
   "cell_type": "code",
   "execution_count": 10,
   "id": "a551b7c0",
   "metadata": {},
   "outputs": [],
   "source": [
    "np.random.seed(42)\n",
    "\n",
    "cols_with_missing = ['AGE', 'BILL_AMT1', 'BILL_AMT2']\n",
    "missing_pct = 0.05\n",
    "\n",
    "for col in cols_with_missing:\n",
    "    missing_indices = ucc_df.sample(frac=missing_pct).index\n",
    "    ucc_df.loc[missing_indices, col] = np.nan"
   ]
  },
  {
   "cell_type": "code",
   "execution_count": 11,
   "id": "e7407566",
   "metadata": {},
   "outputs": [
    {
     "data": {
      "text/plain": [
       "ID                               0\n",
       "LIMIT_BAL                        0\n",
       "SEX                              0\n",
       "EDUCATION                        0\n",
       "MARRIAGE                         0\n",
       "AGE                           1500\n",
       "PAY_0                            0\n",
       "PAY_2                            0\n",
       "PAY_3                            0\n",
       "PAY_4                            0\n",
       "PAY_5                            0\n",
       "PAY_6                            0\n",
       "BILL_AMT1                     1500\n",
       "BILL_AMT2                     1500\n",
       "BILL_AMT3                        0\n",
       "BILL_AMT4                        0\n",
       "BILL_AMT5                        0\n",
       "BILL_AMT6                        0\n",
       "PAY_AMT1                         0\n",
       "PAY_AMT2                         0\n",
       "PAY_AMT3                         0\n",
       "PAY_AMT4                         0\n",
       "PAY_AMT5                         0\n",
       "PAY_AMT6                         0\n",
       "default.payment.next.month       0\n",
       "dtype: int64"
      ]
     },
     "execution_count": 11,
     "metadata": {},
     "output_type": "execute_result"
    }
   ],
   "source": [
    "ucc_df.isna().sum()"
   ]
  },
  {
   "cell_type": "code",
   "execution_count": 12,
   "id": "b4e1a817",
   "metadata": {},
   "outputs": [
    {
     "data": {
      "text/plain": [
       "AGE          0.05\n",
       "BILL_AMT1    0.05\n",
       "BILL_AMT2    0.05\n",
       "dtype: float64"
      ]
     },
     "execution_count": 12,
     "metadata": {},
     "output_type": "execute_result"
    }
   ],
   "source": [
    "ucc_df[cols_with_missing].isnull().mean()"
   ]
  },
  {
   "cell_type": "markdown",
   "id": "9eb1925e",
   "metadata": {},
   "source": [
    "### **Imputation Strategy 1: Simple Imputation (Baseline)**\n",
    "\n",
    "- **Copy:** we create a copy of the dataset.\n",
    "- **Detection:** We automatically identify all columns with missing values.\n",
    "- **Imputation:** For each column with missing values, we use the `SimpleImputer` from scikit-learn with the `'median'` strategy to fill in the missing entries."
   ]
  },
  {
   "cell_type": "code",
   "execution_count": 13,
   "id": "06aacf40",
   "metadata": {},
   "outputs": [],
   "source": [
    "dataset_a = ucc_df.copy()"
   ]
  },
  {
   "cell_type": "code",
   "execution_count": 14,
   "id": "4a4cec5a",
   "metadata": {},
   "outputs": [],
   "source": [
    "# Automatically find columns with missing values\n",
    "cols_with_missing = dataset_a.columns[dataset_a.isnull().any()].tolist()\n",
    "\n",
    "# Impute only columns with missing values\n",
    "simple_imputer = SimpleImputer(strategy='median')\n",
    "dataset_a[cols_with_missing] = simple_imputer.fit_transform(dataset_a[cols_with_missing])"
   ]
  },
  {
   "cell_type": "code",
   "execution_count": 15,
   "id": "f29b69a6",
   "metadata": {},
   "outputs": [
    {
     "data": {
      "text/plain": [
       "ID                            0\n",
       "LIMIT_BAL                     0\n",
       "SEX                           0\n",
       "EDUCATION                     0\n",
       "MARRIAGE                      0\n",
       "AGE                           0\n",
       "PAY_0                         0\n",
       "PAY_2                         0\n",
       "PAY_3                         0\n",
       "PAY_4                         0\n",
       "PAY_5                         0\n",
       "PAY_6                         0\n",
       "BILL_AMT1                     0\n",
       "BILL_AMT2                     0\n",
       "BILL_AMT3                     0\n",
       "BILL_AMT4                     0\n",
       "BILL_AMT5                     0\n",
       "BILL_AMT6                     0\n",
       "PAY_AMT1                      0\n",
       "PAY_AMT2                      0\n",
       "PAY_AMT3                      0\n",
       "PAY_AMT4                      0\n",
       "PAY_AMT5                      0\n",
       "PAY_AMT6                      0\n",
       "default.payment.next.month    0\n",
       "dtype: int64"
      ]
     },
     "execution_count": 15,
     "metadata": {},
     "output_type": "execute_result"
    }
   ],
   "source": [
    "dataset_a.isnull().sum()"
   ]
  },
  {
   "cell_type": "markdown",
   "id": "6c5bb23a",
   "metadata": {},
   "source": [
    "### **Imputation Strategy 2: Regression Imputation (Linear)**\n",
    "\n",
    "- We use scikit-learn's `IterativeImputer` with a linear regression estimator to iteratively predict and impute missing values in all numeric columns.\n",
    "- Each feature with missing values is modeled as a function of the other features, including the target variable, and missing values are predicted using linear regression.\n",
    "- This process is repeated for several iterations, allowing the imputer to use previously imputed values as predictors in subsequent steps.\n",
    "- This approach is well-suited for data that is **Missing At Random (MAR)**, where the probability of missingness depends on observed data.\n",
    "\n",
    "**Advantages:**\n",
    "- More accurate than simple imputation, as it leverages relationships between features.\n",
    "- Can handle multiple columns with missing values, even when missingness overlaps.\n",
    "\n",
    "**Underlying Assumption (Missing At Random - MAR):**  \n",
    "- The MAR assumption means that the likelihood of a value being missing depends only on the observed data, not on the value of the missing data itself. In other words, the missingness can be explained by other variables in the dataset, making regression-based imputation appropriate.\n",
    "\n",
    "**Note:**  \n",
    "- `IterativeImputer` is experimental in scikit-learn and works only with numeric columns by default.\n",
    "- `IterativeImputer` only fills in the missing (`NaN`) entries in the data. The observed (non-missing) values remain unchanged throughout the imputation process, ensuring that the original, real data is preserved."
   ]
  },
  {
   "cell_type": "code",
   "execution_count": 16,
   "id": "df72a7a0",
   "metadata": {},
   "outputs": [],
   "source": [
    "dataset_b = ucc_df.copy()"
   ]
  },
  {
   "cell_type": "code",
   "execution_count": 17,
   "id": "8c08f16e",
   "metadata": {},
   "outputs": [],
   "source": [
    "# Select only numeric columns for imputation (IterativeImputer works with numeric data)\n",
    "numeric_cols = dataset_b.select_dtypes(include=[np.number]).columns\n",
    "\n",
    "# Initialize IterativeImputer (uses BayesianRidge by default, can set estimator=LinearRegression())\n",
    "imputer = IterativeImputer(random_state=42, estimator=LinearRegression())\n",
    "dataset_b[numeric_cols] = imputer.fit_transform(dataset_b[numeric_cols])"
   ]
  },
  {
   "cell_type": "code",
   "execution_count": 18,
   "id": "464711e5",
   "metadata": {},
   "outputs": [
    {
     "data": {
      "text/plain": [
       "ID                            0\n",
       "LIMIT_BAL                     0\n",
       "SEX                           0\n",
       "EDUCATION                     0\n",
       "MARRIAGE                      0\n",
       "AGE                           0\n",
       "PAY_0                         0\n",
       "PAY_2                         0\n",
       "PAY_3                         0\n",
       "PAY_4                         0\n",
       "PAY_5                         0\n",
       "PAY_6                         0\n",
       "BILL_AMT1                     0\n",
       "BILL_AMT2                     0\n",
       "BILL_AMT3                     0\n",
       "BILL_AMT4                     0\n",
       "BILL_AMT5                     0\n",
       "BILL_AMT6                     0\n",
       "PAY_AMT1                      0\n",
       "PAY_AMT2                      0\n",
       "PAY_AMT3                      0\n",
       "PAY_AMT4                      0\n",
       "PAY_AMT5                      0\n",
       "PAY_AMT6                      0\n",
       "default.payment.next.month    0\n",
       "dtype: int64"
      ]
     },
     "execution_count": 18,
     "metadata": {},
     "output_type": "execute_result"
    }
   ],
   "source": [
    "dataset_b.isnull().sum()"
   ]
  },
  {
   "cell_type": "markdown",
   "id": "739bdbcb",
   "metadata": {},
   "source": [
    "### **Imputation Strategy 3: Regression Imputation (Non-Linear)**\n",
    "\n",
    "- We create a third dataset copy and use `KNNImputer` (K-Nearest Neighbors Imputer) from scikit-learn to fill in missing values for all numeric columns.\n",
    "- KNNImputer estimates each missing value based on the values of its nearest neighbors, capturing non-linear relationships in the data.\n",
    "- This approach is effective for datasets where the relationship between features is not strictly linear.\n",
    "\n",
    "**Note:**  \n",
    "- We also experimented with tree-based models (`DecisionTreeRegressor` and `RandomForestRegressor`) using `IterativeImputer`.\n",
    "- The Decision Tree approach did **not converge** (the imputer could not stabilize the imputed values).\n",
    "- The Random Forest approach was **computationally expensive** and took too long to run.\n",
    "- Therefore, we chose **KNNImputer** as the practical non-linear imputation method for this assignment."
   ]
  },
  {
   "cell_type": "code",
   "execution_count": 19,
   "id": "cdcfc308",
   "metadata": {},
   "outputs": [],
   "source": [
    "dataset_c = ucc_df.copy()"
   ]
  },
  {
   "cell_type": "code",
   "execution_count": 20,
   "id": "7945888c",
   "metadata": {},
   "outputs": [],
   "source": [
    "# Select only numeric columns for imputation (KNNImputer works with numeric data)\n",
    "numeric_cols = dataset_c.select_dtypes(include=[np.number]).columns\n",
    "\n",
    "# Initialize KNNImputer (non-linear regression-based imputation)\n",
    "knn_imputer = KNNImputer()\n",
    "dataset_c[numeric_cols] = knn_imputer.fit_transform(dataset_c[numeric_cols])"
   ]
  },
  {
   "cell_type": "code",
   "execution_count": 21,
   "id": "0c471305",
   "metadata": {},
   "outputs": [
    {
     "data": {
      "text/plain": [
       "ID                            0\n",
       "LIMIT_BAL                     0\n",
       "SEX                           0\n",
       "EDUCATION                     0\n",
       "MARRIAGE                      0\n",
       "AGE                           0\n",
       "PAY_0                         0\n",
       "PAY_2                         0\n",
       "PAY_3                         0\n",
       "PAY_4                         0\n",
       "PAY_5                         0\n",
       "PAY_6                         0\n",
       "BILL_AMT1                     0\n",
       "BILL_AMT2                     0\n",
       "BILL_AMT3                     0\n",
       "BILL_AMT4                     0\n",
       "BILL_AMT5                     0\n",
       "BILL_AMT6                     0\n",
       "PAY_AMT1                      0\n",
       "PAY_AMT2                      0\n",
       "PAY_AMT3                      0\n",
       "PAY_AMT4                      0\n",
       "PAY_AMT5                      0\n",
       "PAY_AMT6                      0\n",
       "default.payment.next.month    0\n",
       "dtype: int64"
      ]
     },
     "execution_count": 21,
     "metadata": {},
     "output_type": "execute_result"
    }
   ],
   "source": [
    "dataset_c.isnull().sum()"
   ]
  },
  {
   "cell_type": "markdown",
   "id": "badb7f5c",
   "metadata": {},
   "source": [
    "# **Part B: Model Training and Performance Assessment**"
   ]
  },
  {
   "cell_type": "markdown",
   "id": "9a37e05e",
   "metadata": {},
   "source": [
    "### **Strategy 4: Remove nulls**"
   ]
  },
  {
   "cell_type": "code",
   "execution_count": 22,
   "id": "14912494",
   "metadata": {},
   "outputs": [],
   "source": [
    "dataset_d = ucc_df.dropna()"
   ]
  },
  {
   "cell_type": "markdown",
   "id": "74c151ba",
   "metadata": {},
   "source": [
    "### **Data Split**"
   ]
  },
  {
   "cell_type": "code",
   "execution_count": 23,
   "id": "11fbaa34",
   "metadata": {},
   "outputs": [],
   "source": [
    "target_column = 'default.payment.next.month'\n",
    "\n",
    "# Dataset A: Simple Imputation\n",
    "X_a = dataset_a.drop(columns=[target_column])\n",
    "y_a = dataset_a[target_column]\n",
    "X_a_train, X_a_test, y_a_train, y_a_test = train_test_split(X_a, y_a, test_size=0.2, random_state=42)\n",
    "\n",
    "# Dataset B: Regression Imputation (Linear)\n",
    "X_b = dataset_b.drop(columns=[target_column])\n",
    "y_b = dataset_b[target_column]\n",
    "X_b_train, X_b_test, y_b_train, y_b_test = train_test_split(X_b, y_b, test_size=0.2, random_state=42)\n",
    "\n",
    "# Dataset C: Regression Imputation (Non-Linear)\n",
    "X_c = dataset_c.drop(columns=[target_column])\n",
    "y_c = dataset_c[target_column]\n",
    "X_c_train, X_c_test, y_c_train, y_c_test = train_test_split(X_c, y_c, test_size=0.2, random_state=42)\n",
    "\n",
    "# Dataset D: Deletion (remove all rows with any missing values)\n",
    "X_d = dataset_d.drop(columns=[target_column])\n",
    "y_d = dataset_d[target_column]\n",
    "X_d_train, X_d_test, y_d_train, y_d_test = train_test_split(X_d, y_d, test_size=0.2, random_state=42)"
   ]
  },
  {
   "cell_type": "markdown",
   "id": "8f145585",
   "metadata": {},
   "source": [
    "### **Classifier Setup**\n",
    "\n",
    "- We use a scikit-learn `Pipeline` to streamline preprocessing and model training.\n",
    "- The pipeline first standardizes all features using `StandardScaler`.\n",
    "- Then, it fits a `LogisticRegression` classifier (`random_state=42`).\n",
    "- This setup ensures consistent scaling and easy model fitting/prediction for all datasets."
   ]
  },
  {
   "cell_type": "code",
   "execution_count": 24,
   "id": "ae516d09",
   "metadata": {},
   "outputs": [],
   "source": [
    "clf_pipeline = Pipeline([\n",
    "    ('scaler', StandardScaler()),\n",
    "    ('logreg', LogisticRegression(class_weight='balanced', random_state=42))\n",
    "])"
   ]
  },
  {
   "cell_type": "markdown",
   "id": "09a44f5f",
   "metadata": {},
   "source": [
    "### **Model Evaluation**\n",
    "\n",
    "* `evaluate_model()` fits the pipeline and makes predictions.\n",
    "* Prints the classification report and confusion matrix.\n",
    "* Compares model performance across datasets with different imputation strategies:\n",
    "\n",
    "  * A: Median Imputation\n",
    "  * B: Linear Regression Imputation\n",
    "  * C: KNN Imputation\n",
    "  * D: Row Deletion"
   ]
  },
  {
   "cell_type": "code",
   "execution_count": 25,
   "id": "27f29f32",
   "metadata": {},
   "outputs": [],
   "source": [
    "# Helper function to fit, predict, and print reports\n",
    "def evaluate_model(X_train, X_test, y_train, y_test, label):\n",
    "    clf_pipeline.fit(X_train, y_train)\n",
    "    y_pred = clf_pipeline.predict(X_test)\n",
    "    print(f\"--- {label} ---\")\n",
    "    print(classification_report(y_test, y_pred))\n",
    "    print(\"Confusion Matrix:\")\n",
    "    disp = ConfusionMatrixDisplay(confusion_matrix(y_test, y_pred))\n",
    "    disp.plot()\n",
    "    plt.show()\n",
    "    # Force inclusion of both classes (0 and 1)\n",
    "    return classification_report(y_test, y_pred, output_dict=True, labels=[0, 1], zero_division=0)"
   ]
  },
  {
   "cell_type": "code",
   "execution_count": 26,
   "id": "6010daf2",
   "metadata": {},
   "outputs": [
    {
     "name": "stdout",
     "output_type": "stream",
     "text": [
      "--- Dataset A: Simple Imputation (median) ---\n",
      "              precision    recall  f1-score   support\n",
      "\n",
      "           0       0.88      0.70      0.78      4687\n",
      "           1       0.38      0.65      0.48      1313\n",
      "\n",
      "    accuracy                           0.69      6000\n",
      "   macro avg       0.63      0.67      0.63      6000\n",
      "weighted avg       0.77      0.69      0.71      6000\n",
      "\n",
      "Confusion Matrix:\n"
     ]
    },
    {
     "data": {
      "image/png": "[encoded data removed]",
      "text/plain": [
       "<Figure size 640x480 with 2 Axes>"
      ]
     },
     "metadata": {},
     "output_type": "display_data"
    }
   ],
   "source": [
    "cr_a = evaluate_model(X_a_train, X_a_test, y_a_train, y_a_test, \"Dataset A: Simple Imputation (median)\")"
   ]
  },
  {
   "cell_type": "code",
   "execution_count": 27,
   "id": "0d68c8b5",
   "metadata": {},
   "outputs": [
    {
     "name": "stdout",
     "output_type": "stream",
     "text": [
      "--- Dataset B: Linear Imputation (Linear Regression) ---\n",
      "              precision    recall  f1-score   support\n",
      "\n",
      "         0.0       0.88      0.71      0.78      4687\n",
      "         1.0       0.38      0.65      0.48      1313\n",
      "\n",
      "    accuracy                           0.69      6000\n",
      "   macro avg       0.63      0.68      0.63      6000\n",
      "weighted avg       0.77      0.69      0.72      6000\n",
      "\n",
      "Confusion Matrix:\n"
     ]
    },
    {
     "data": {
      "image/png": "[encoded data removed]",
      "text/plain": [
       "<Figure size 640x480 with 2 Axes>"
      ]
     },
     "metadata": {},
     "output_type": "display_data"
    }
   ],
   "source": [
    "cr_b = evaluate_model(X_b_train, X_b_test, y_b_train, y_b_test, \"Dataset B: Linear Imputation (Linear Regression)\")"
   ]
  },
  {
   "cell_type": "code",
   "execution_count": 28,
   "id": "11320fec",
   "metadata": {},
   "outputs": [
    {
     "name": "stdout",
     "output_type": "stream",
     "text": [
      "--- Dataset C: Non-Linear Imputation (KNN) ---\n",
      "              precision    recall  f1-score   support\n",
      "\n",
      "         0.0       0.88      0.70      0.78      4687\n",
      "         1.0       0.38      0.64      0.48      1313\n",
      "\n",
      "    accuracy                           0.69      6000\n",
      "   macro avg       0.63      0.67      0.63      6000\n",
      "weighted avg       0.77      0.69      0.71      6000\n",
      "\n",
      "Confusion Matrix:\n"
     ]
    },
    {
     "data": {
      "image/png": "[encoded data removed]",
      "text/plain": [
       "<Figure size 640x480 with 2 Axes>"
      ]
     },
     "metadata": {},
     "output_type": "display_data"
    }
   ],
   "source": [
    "cr_c = evaluate_model(X_c_train, X_c_test, y_c_train, y_c_test, \"Dataset C: Non-Linear Imputation (KNN)\")"
   ]
  },
  {
   "cell_type": "code",
   "execution_count": 29,
   "id": "1ff2e8d7",
   "metadata": {},
   "outputs": [
    {
     "name": "stdout",
     "output_type": "stream",
     "text": [
      "--- Dataset D: Deletion (Remove rows with null) ---\n",
      "              precision    recall  f1-score   support\n",
      "\n",
      "           0       0.88      0.70      0.78      4040\n",
      "           1       0.37      0.64      0.46      1106\n",
      "\n",
      "    accuracy                           0.68      5146\n",
      "   macro avg       0.62      0.67      0.62      5146\n",
      "weighted avg       0.77      0.68      0.71      5146\n",
      "\n",
      "Confusion Matrix:\n"
     ]
    },
    {
     "data": {
      "image/png": "[encoded data removed]",
      "text/plain": [
       "<Figure size 640x480 with 2 Axes>"
      ]
     },
     "metadata": {},
     "output_type": "display_data"
    }
   ],
   "source": [
    "cr_d = evaluate_model(X_d_train, X_d_test, y_d_train, y_d_test, \"Dataset D: Deletion (Remove rows with null)\")"
   ]
  },
  {
   "cell_type": "markdown",
   "id": "ef7590bc",
   "metadata": {},
   "source": [
    "## **Part C: Comparative Analysis**"
   ]
  },
  {
   "cell_type": "markdown",
   "id": "3cd5555e",
   "metadata": {},
   "source": [
    "### **Results Comparison**\n",
    "\n",
    "* A summary table was created to compare the performance of four models on the same dataset.\n",
    "* Models compared:\n",
    "\n",
    "  1. **Model A:** Median Imputation\n",
    "  2. **Model B:** Linear Regression Imputation\n",
    "  3. **Model C:** Non-Linear Regression (KNN) Imputation\n",
    "  4. **Model D:** Listwise Deletion (removing rows with missing values)\n",
    "* Key performance metrics included:\n",
    "\n",
    "  * **Precision, Recall, F1-score** for each class (0 and 1)\n",
    "  * **Overall Accuracy**\n",
    "* Metrics were extracted from the `classification_report` using `output_dict=True`.\n",
    "* A **bar plot visualization** was used to compare metrics across models for better interpretability.\n",
    "* The comparison highlights how different imputation strategies affect model performance, especially on minority classes in imbalanced datasets."
   ]
  },
  {
   "cell_type": "code",
   "execution_count": 30,
   "id": "d7f7f5e4",
   "metadata": {},
   "outputs": [
    {
     "data": {
      "text/html": [
       "<div>\n",
       "<style scoped>\n",
       "    .dataframe tbody tr th:only-of-type {\n",
       "        vertical-align: middle;\n",
       "    }\n",
       "\n",
       "    .dataframe tbody tr th {\n",
       "        vertical-align: top;\n",
       "    }\n",
       "\n",
       "    .dataframe thead th {\n",
       "        text-align: right;\n",
       "    }\n",
       "</style>\n",
       "<table border=\"1\" class=\"dataframe\">\n",
       "  <thead>\n",
       "    <tr style=\"text-align: right;\">\n",
       "      <th></th>\n",
       "      <th>Model</th>\n",
       "      <th>Precision (Class 0)</th>\n",
       "      <th>Recall (Class 0)</th>\n",
       "      <th>F1-score (Class 0)</th>\n",
       "      <th>Precision (Class 1)</th>\n",
       "      <th>Recall (Class 1)</th>\n",
       "      <th>F1-score (Class 1)</th>\n",
       "      <th>Accuracy</th>\n",
       "    </tr>\n",
       "  </thead>\n",
       "  <tbody>\n",
       "    <tr>\n",
       "      <th>0</th>\n",
       "      <td>A: Median</td>\n",
       "      <td>0.876</td>\n",
       "      <td>0.702</td>\n",
       "      <td>0.779</td>\n",
       "      <td>0.378</td>\n",
       "      <td>0.646</td>\n",
       "      <td>0.477</td>\n",
       "      <td>0.690</td>\n",
       "    </tr>\n",
       "    <tr>\n",
       "      <th>1</th>\n",
       "      <td>B: Linear</td>\n",
       "      <td>0.877</td>\n",
       "      <td>0.707</td>\n",
       "      <td>0.783</td>\n",
       "      <td>0.382</td>\n",
       "      <td>0.645</td>\n",
       "      <td>0.480</td>\n",
       "      <td>0.694</td>\n",
       "    </tr>\n",
       "    <tr>\n",
       "      <th>2</th>\n",
       "      <td>C: KNN</td>\n",
       "      <td>0.876</td>\n",
       "      <td>0.704</td>\n",
       "      <td>0.781</td>\n",
       "      <td>0.379</td>\n",
       "      <td>0.644</td>\n",
       "      <td>0.477</td>\n",
       "      <td>0.691</td>\n",
       "    </tr>\n",
       "    <tr>\n",
       "      <th>3</th>\n",
       "      <td>D: Deletion</td>\n",
       "      <td>0.875</td>\n",
       "      <td>0.698</td>\n",
       "      <td>0.777</td>\n",
       "      <td>0.366</td>\n",
       "      <td>0.637</td>\n",
       "      <td>0.465</td>\n",
       "      <td>0.685</td>\n",
       "    </tr>\n",
       "  </tbody>\n",
       "</table>\n",
       "</div>"
      ],
      "text/plain": [
       "         Model  Precision (Class 0)  Recall (Class 0)  F1-score (Class 0)  \\\n",
       "0    A: Median                0.876             0.702               0.779   \n",
       "1    B: Linear                0.877             0.707               0.783   \n",
       "2       C: KNN                0.876             0.704               0.781   \n",
       "3  D: Deletion                0.875             0.698               0.777   \n",
       "\n",
       "   Precision (Class 1)  Recall (Class 1)  F1-score (Class 1)  Accuracy  \n",
       "0                0.378             0.646               0.477     0.690  \n",
       "1                0.382             0.645               0.480     0.694  \n",
       "2                0.379             0.644               0.477     0.691  \n",
       "3                0.366             0.637               0.465     0.685  "
      ]
     },
     "execution_count": 30,
     "metadata": {},
     "output_type": "execute_result"
    }
   ],
   "source": [
    "def get_metric(report, label, metric):\n",
    "    # Handles both numeric and string keys safely\n",
    "    if label in report:\n",
    "        return report[label][metric]\n",
    "    elif str(label) in report:\n",
    "        return report[str(label)][metric]\n",
    "    else:\n",
    "        return None\n",
    "\n",
    "summary = {\n",
    "    \"Model\": [\"A: Median\", \"B: Linear\", \"C: KNN\", \"D: Deletion\"],\n",
    "    \"Precision (Class 0)\": [get_metric(cr_a, 0, \"precision\"), get_metric(cr_b, 0, \"precision\"), get_metric(cr_c, 0, \"precision\"), get_metric(cr_d, 0, \"precision\")],\n",
    "    \"Recall (Class 0)\":    [get_metric(cr_a, 0, \"recall\"),    get_metric(cr_b, 0, \"recall\"),    get_metric(cr_c, 0, \"recall\"),    get_metric(cr_d, 0, \"recall\")],\n",
    "    \"F1-score (Class 0)\":  [get_metric(cr_a, 0, \"f1-score\"),  get_metric(cr_b, 0, \"f1-score\"),  get_metric(cr_c, 0, \"f1-score\"),  get_metric(cr_d, 0, \"f1-score\")],\n",
    "    \"Precision (Class 1)\": [get_metric(cr_a, 1, \"precision\"), get_metric(cr_b, 1, \"precision\"), get_metric(cr_c, 1, \"precision\"), get_metric(cr_d, 1, \"precision\")],\n",
    "    \"Recall (Class 1)\":    [get_metric(cr_a, 1, \"recall\"),    get_metric(cr_b, 1, \"recall\"),    get_metric(cr_c, 1, \"recall\"),    get_metric(cr_d, 1, \"recall\")],\n",
    "    \"F1-score (Class 1)\":  [get_metric(cr_a, 1, \"f1-score\"),  get_metric(cr_b, 1, \"f1-score\"),  get_metric(cr_c, 1, \"f1-score\"),  get_metric(cr_d, 1, \"f1-score\")],\n",
    "    \"Accuracy\":            [cr_a[\"accuracy\"], cr_b[\"accuracy\"], cr_c[\"accuracy\"], cr_d[\"accuracy\"]]\n",
    "}\n",
    "\n",
    "summary_df = pd.DataFrame(summary).round(3)\n",
    "summary_df"
   ]
  },
  {
   "cell_type": "code",
   "execution_count": 31,
   "id": "b510310c",
   "metadata": {},
   "outputs": [],
   "source": [
    "# Set Seaborn style and palette\n",
    "sns.set(palette=\"colorblind\")\n",
    "\n",
    "models = [\"A: Median\", \"B: Linear\", \"C: KNN\", \"D: Deletion\"]\n",
    "x = np.arange(len(models))\n",
    "width = 0.2"
   ]
  },
  {
   "cell_type": "code",
   "execution_count": 32,
   "id": "06f2f625",
   "metadata": {},
   "outputs": [
    {
     "data": {
      "image/png": "[encoded data removed]",
      "text/plain": [
       "<Figure size 1200x700 with 1 Axes>"
      ]
     },
     "metadata": {},
     "output_type": "display_data"
    }
   ],
   "source": [
    "# ---- Plot 1: Class 0 Metrics ----\n",
    "plt.figure(figsize=(12,7))\n",
    "plt.bar(x - width, summary_df[\"Precision (Class 0)\"], width, label='Precision')\n",
    "plt.bar(x, summary_df[\"Recall (Class 0)\"], width, label='Recall')\n",
    "plt.bar(x + width, summary_df[\"F1-score (Class 0)\"], width, label='F1-score')\n",
    "\n",
    "# Annotate values on top\n",
    "for i in range(len(models)):\n",
    "    plt.text(i - width, summary_df[\"Precision (Class 0)\"][i] + 0.02, f\"{summary_df['Precision (Class 0)'][i]:.2f}\", ha='center')\n",
    "    plt.text(i, summary_df[\"Recall (Class 0)\"][i] + 0.02, f\"{summary_df['Recall (Class 0)'][i]:.2f}\", ha='center')\n",
    "    plt.text(i + width, summary_df[\"F1-score (Class 0)\"][i] + 0.02, f\"{summary_df['F1-score (Class 0)'][i]:.2f}\", ha='center')\n",
    "\n",
    "plt.xticks(x, models)\n",
    "plt.ylim(0, 1.1)\n",
    "plt.ylabel(\"Score\")\n",
    "plt.title(\"Class 0 Metrics\")\n",
    "plt.legend()\n",
    "plt.show()"
   ]
  },
  {
   "cell_type": "code",
   "execution_count": 33,
   "id": "72e4e032",
   "metadata": {},
   "outputs": [
    {
     "data": {
      "image/png": "[encoded data removed]",
      "text/plain": [
       "<Figure size 1000x500 with 1 Axes>"
      ]
     },
     "metadata": {},
     "output_type": "display_data"
    }
   ],
   "source": [
    "# ---- Plot 2: Class 1 Metrics ----\n",
    "plt.figure(figsize=(10,5))\n",
    "plt.bar(x - width, summary_df[\"Precision (Class 1)\"], width, label='Precision')\n",
    "plt.bar(x, summary_df[\"Recall (Class 1)\"], width, label='Recall')\n",
    "plt.bar(x + width, summary_df[\"F1-score (Class 1)\"], width, label='F1-score')\n",
    "\n",
    "# Annotate values on top\n",
    "for i in range(len(models)):\n",
    "    plt.text(i - width, summary_df[\"Precision (Class 1)\"][i] + 0.02, f\"{summary_df['Precision (Class 1)'][i]:.2f}\", ha='center')\n",
    "    plt.text(i, summary_df[\"Recall (Class 1)\"][i] + 0.02, f\"{summary_df['Recall (Class 1)'][i]:.2f}\", ha='center')\n",
    "    plt.text(i + width, summary_df[\"F1-score (Class 1)\"][i] + 0.02, f\"{summary_df['F1-score (Class 1)'][i]:.2f}\", ha='center')\n",
    "\n",
    "plt.xticks(x, models)\n",
    "plt.ylim(0, 1.1)\n",
    "plt.ylabel(\"Score\")\n",
    "plt.title(\"Class 1 Metrics\")\n",
    "plt.legend()\n",
    "plt.show()"
   ]
  },
  {
   "cell_type": "code",
   "execution_count": 34,
   "id": "6cb7e874",
   "metadata": {},
   "outputs": [
    {
     "data": {
      "image/png": "[encoded data removed]",
      "text/plain": [
       "<Figure size 800x500 with 1 Axes>"
      ]
     },
     "metadata": {},
     "output_type": "display_data"
    }
   ],
   "source": [
    "# ---- Plot 3: Overall Accuracy ----\n",
    "plt.figure(figsize=(8,5))\n",
    "plt.bar(models, summary_df[\"Accuracy\"], color=sns.color_palette(\"colorblind\"), edgecolor='black')\n",
    "\n",
    "# Annotate values\n",
    "for i, val in enumerate(summary_df[\"Accuracy\"]):\n",
    "    plt.text(i, val + 0.02, f\"{val:.2f}\", ha='center')\n",
    "\n",
    "plt.ylim(0, 1.1)\n",
    "plt.ylabel(\"Accuracy\")\n",
    "plt.title(\"Overall Accuracy\")\n",
    "plt.show()"
   ]
  },
  {
   "cell_type": "markdown",
   "id": "bc8c8ee1",
   "metadata": {},
   "source": [
    "### **Efficacy Discussion**\n",
    "\n",
    "This analysis evaluates the effectiveness of four different strategies for handling missing data: median imputation (A), linear regression imputation (B), K-Nearest Neighbors (KNN) imputation (C), and listwise deletion (D). The best strategy is determined by comparing classification performance and considering the conceptual trade-offs of each method.\n",
    "\n",
    "***\n",
    "\n",
    "#### **Deletion vs. Imputation**\n",
    "\n",
    "The core trade-off here is between the simplicity of deleting data versus the statistical power gained by imputing it.\n",
    "\n",
    "* **Listwise Deletion (Model D)**, which removes any row with missing values, was the worst-performing strategy. It achieved an **accuracy of 0.685** and a **Class 1 F1-score of 0.465**. While simple, this method significantly reduces the dataset size. This data loss leads to:\n",
    "    * 📉 **Reduced Statistical Power**: The model has less data to learn from, making it harder to identify patterns, especially for the minority class (defaulters).\n",
    "    * biased **Potential for Bias**: Since the missingness was Missing At Random (MAR), deleting rows can skew the dataset's distribution, leading to a biased model.\n",
    "\n",
    "* **Imputation (Models A, B, C)** consistently outperformed deletion because it preserves the entire dataset. Even the baseline **Median Imputation (Model A)** achieved a higher accuracy (0.690) and Class 1 F1-score (0.477).\n",
    "\n",
    "Ultimately, the harm caused by **significant data loss** from deletion was more detrimental to model performance than the potential noise introduced by estimating values through imputation.\n",
    "\n",
    "***\n",
    "\n",
    "#### **Linear vs. Non-Linear Imputation**\n",
    "\n",
    "When comparing the regression-based methods, the **Linear Regression Imputation (Model B)** performed slightly better than the **Non-Linear KNN Imputation (Model C)**.\n",
    "\n",
    "* **Model B (Linear):** Accuracy = 0.694, F1-score (Class 1) = 0.480\n",
    "* **Model C (KNN):** Accuracy = 0.691, F1-score (Class 1) = 0.477\n",
    "\n",
    "The `IterativeImputer` with a linear model assumes that the missing features can be predicted as a **linear combination** of the other features. `KNNImputer` makes no such assumption, instead using the average of the nearest neighbors to capture more complex, non-linear patterns.\n",
    "\n",
    "Since the linear method performed best, it suggests that the relationships between the features in this dataset are **predominantly linear**. The added complexity of KNN was not necessary and offered no performance advantage, making the `IterativeImputer`'s approach the most effective.\n",
    "\n",
    "***\n",
    "\n",
    "#### **Recommendation**\n",
    "\n",
    "For this scenario, the best strategy for handling missing data is **Linear Regression Imputation using `IterativeImputer` (Model B)**.\n",
    "\n",
    "This recommendation is justified on three key points:\n",
    "1.  **Superior Performance**: It delivered the highest overall accuracy (0.694) and, most importantly, the highest F1-score for the minority class (0.480). Correctly identifying defaulters is critical, making this metric paramount.\n",
    "2.  **Data Preservation**: It retains the full dataset, avoiding the power loss and bias associated with listwise deletion.\n",
    "3.  **Appropriate Complexity**: It is more sophisticated than simple median imputation but avoids the unnecessary computational overhead and slight performance dip of the non-linear KNN method, indicating it is the best fit for the underlying data structure."
   ]
  }
 ],
 "metadata": {
  "kernelspec": {
   "display_name": "assignment-6-shreeharia (3.13.7)",
   "language": "python",
   "name": "python3"
  },
  "language_info": {
   "codemirror_mode": {
    "name": "ipython",
    "version": 3
   },
   "file_extension": ".py",
   "mimetype": "text/x-python",
   "name": "python",
   "nbconvert_exporter": "python",
   "pygments_lexer": "ipython3",
   "version": "3.13.7"
  }
 },
 "nbformat": 4,
 "nbformat_minor": 5
}
